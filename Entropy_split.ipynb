{
 "cells": [
  {
   "cell_type": "markdown",
   "metadata": {},
   "source": [
    "# Machine Learning\n",
    "\n",
    "A simple decision tree with depth 1 using the given dataset for predicting the price (categorical) target feature using the Entropy split criterion.\n",
    "\n",
    "#### Author: Achintya Gupta \n",
    "\n"
   ]
  },
  {
   "cell_type": "code",
   "execution_count": 1,
   "metadata": {},
   "outputs": [],
   "source": [
    "# importing necessary libraries\n",
    "\n",
    "import numpy as np\n",
    "import pandas as pd\n",
    "\n",
    "import warnings\n",
    "warnings.filterwarnings(\"ignore\")"
   ]
  },
  {
   "cell_type": "code",
   "execution_count": 2,
   "metadata": {},
   "outputs": [
    {
     "data": {
      "text/html": [
       "<div>\n",
       "<style scoped>\n",
       "    .dataframe tbody tr th:only-of-type {\n",
       "        vertical-align: middle;\n",
       "    }\n",
       "\n",
       "    .dataframe tbody tr th {\n",
       "        vertical-align: top;\n",
       "    }\n",
       "\n",
       "    .dataframe thead th {\n",
       "        text-align: right;\n",
       "    }\n",
       "</style>\n",
       "<table border=\"1\" class=\"dataframe\">\n",
       "  <thead>\n",
       "    <tr style=\"text-align: right;\">\n",
       "      <th></th>\n",
       "      <th>cut</th>\n",
       "      <th>color</th>\n",
       "      <th>depth</th>\n",
       "      <th>price</th>\n",
       "      <th>carat</th>\n",
       "    </tr>\n",
       "  </thead>\n",
       "  <tbody>\n",
       "    <tr>\n",
       "      <th>0</th>\n",
       "      <td>Good</td>\n",
       "      <td>D</td>\n",
       "      <td>63.6</td>\n",
       "      <td>low</td>\n",
       "      <td>0.44</td>\n",
       "    </tr>\n",
       "    <tr>\n",
       "      <th>1</th>\n",
       "      <td>Fair</td>\n",
       "      <td>F</td>\n",
       "      <td>64.2</td>\n",
       "      <td>low</td>\n",
       "      <td>0.45</td>\n",
       "    </tr>\n",
       "    <tr>\n",
       "      <th>2</th>\n",
       "      <td>Good</td>\n",
       "      <td>I</td>\n",
       "      <td>60.4</td>\n",
       "      <td>low</td>\n",
       "      <td>0.50</td>\n",
       "    </tr>\n",
       "    <tr>\n",
       "      <th>3</th>\n",
       "      <td>Good</td>\n",
       "      <td>F</td>\n",
       "      <td>56.8</td>\n",
       "      <td>low</td>\n",
       "      <td>0.45</td>\n",
       "    </tr>\n",
       "    <tr>\n",
       "      <th>4</th>\n",
       "      <td>Fair</td>\n",
       "      <td>F</td>\n",
       "      <td>64.3</td>\n",
       "      <td>low</td>\n",
       "      <td>0.45</td>\n",
       "    </tr>\n",
       "    <tr>\n",
       "      <th>...</th>\n",
       "      <td>...</td>\n",
       "      <td>...</td>\n",
       "      <td>...</td>\n",
       "      <td>...</td>\n",
       "      <td>...</td>\n",
       "    </tr>\n",
       "    <tr>\n",
       "      <th>207</th>\n",
       "      <td>Good</td>\n",
       "      <td>F</td>\n",
       "      <td>63.7</td>\n",
       "      <td>premium</td>\n",
       "      <td>0.96</td>\n",
       "    </tr>\n",
       "    <tr>\n",
       "      <th>208</th>\n",
       "      <td>Fair</td>\n",
       "      <td>D</td>\n",
       "      <td>57.5</td>\n",
       "      <td>premium</td>\n",
       "      <td>0.90</td>\n",
       "    </tr>\n",
       "    <tr>\n",
       "      <th>209</th>\n",
       "      <td>Fair</td>\n",
       "      <td>F</td>\n",
       "      <td>64.7</td>\n",
       "      <td>premium</td>\n",
       "      <td>0.90</td>\n",
       "    </tr>\n",
       "    <tr>\n",
       "      <th>210</th>\n",
       "      <td>Good</td>\n",
       "      <td>I</td>\n",
       "      <td>58.2</td>\n",
       "      <td>premium</td>\n",
       "      <td>0.93</td>\n",
       "    </tr>\n",
       "    <tr>\n",
       "      <th>211</th>\n",
       "      <td>Fair</td>\n",
       "      <td>F</td>\n",
       "      <td>58.9</td>\n",
       "      <td>premium</td>\n",
       "      <td>0.90</td>\n",
       "    </tr>\n",
       "  </tbody>\n",
       "</table>\n",
       "<p>212 rows × 5 columns</p>\n",
       "</div>"
      ],
      "text/plain": [
       "      cut color  depth    price  carat\n",
       "0    Good     D   63.6      low   0.44\n",
       "1    Fair     F   64.2      low   0.45\n",
       "2    Good     I   60.4      low   0.50\n",
       "3    Good     F   56.8      low   0.45\n",
       "4    Fair     F   64.3      low   0.45\n",
       "..    ...   ...    ...      ...    ...\n",
       "207  Good     F   63.7  premium   0.96\n",
       "208  Fair     D   57.5  premium   0.90\n",
       "209  Fair     F   64.7  premium   0.90\n",
       "210  Good     I   58.2  premium   0.93\n",
       "211  Fair     F   58.9  premium   0.90\n",
       "\n",
       "[212 rows x 5 columns]"
      ]
     },
     "execution_count": 2,
     "metadata": {},
     "output_type": "execute_result"
    }
   ],
   "source": [
    "Data = pd.read_csv(\"THA_diamonds.csv\")\n",
    "Data"
   ]
  },
  {
   "cell_type": "markdown",
   "metadata": {},
   "source": [
    "### Part A"
   ]
  },
  {
   "cell_type": "markdown",
   "metadata": {},
   "source": [
    "**Discretizing*** `carat` **and** `depth`"
   ]
  },
  {
   "cell_type": "code",
   "execution_count": 3,
   "metadata": {},
   "outputs": [],
   "source": [
    "Data1 = Data.copy()\n",
    "\n",
    "# Discretizing carat and depth\n",
    "Data1['carat'] = pd.qcut(Data1['carat'], q=3, labels=['small', 'medium', 'large'])\n",
    "Data1['depth'] = pd.qcut(Data1['depth'], q=3, labels=['shallow', 'middle', 'deep'])"
   ]
  },
  {
   "cell_type": "markdown",
   "metadata": {},
   "source": [
    "`carat` and `depth` are discretized using **equal binning technique**. `carat` is categorized as small, medium and large where as `depth` is categorized as shallow, middle and deep."
   ]
  },
  {
   "cell_type": "code",
   "execution_count": 4,
   "metadata": {},
   "outputs": [
    {
     "data": {
      "text/html": [
       "<div>\n",
       "<style scoped>\n",
       "    .dataframe tbody tr th:only-of-type {\n",
       "        vertical-align: middle;\n",
       "    }\n",
       "\n",
       "    .dataframe tbody tr th {\n",
       "        vertical-align: top;\n",
       "    }\n",
       "\n",
       "    .dataframe thead th {\n",
       "        text-align: right;\n",
       "    }\n",
       "</style>\n",
       "<table border=\"1\" class=\"dataframe\">\n",
       "  <thead>\n",
       "    <tr style=\"text-align: right;\">\n",
       "      <th></th>\n",
       "      <th>cut</th>\n",
       "      <th>color</th>\n",
       "      <th>depth</th>\n",
       "      <th>price</th>\n",
       "      <th>carat</th>\n",
       "    </tr>\n",
       "  </thead>\n",
       "  <tbody>\n",
       "    <tr>\n",
       "      <th>0</th>\n",
       "      <td>Good</td>\n",
       "      <td>D</td>\n",
       "      <td>middle</td>\n",
       "      <td>low</td>\n",
       "      <td>small</td>\n",
       "    </tr>\n",
       "    <tr>\n",
       "      <th>1</th>\n",
       "      <td>Fair</td>\n",
       "      <td>F</td>\n",
       "      <td>deep</td>\n",
       "      <td>low</td>\n",
       "      <td>small</td>\n",
       "    </tr>\n",
       "    <tr>\n",
       "      <th>2</th>\n",
       "      <td>Good</td>\n",
       "      <td>I</td>\n",
       "      <td>shallow</td>\n",
       "      <td>low</td>\n",
       "      <td>small</td>\n",
       "    </tr>\n",
       "    <tr>\n",
       "      <th>3</th>\n",
       "      <td>Good</td>\n",
       "      <td>F</td>\n",
       "      <td>shallow</td>\n",
       "      <td>low</td>\n",
       "      <td>small</td>\n",
       "    </tr>\n",
       "    <tr>\n",
       "      <th>4</th>\n",
       "      <td>Fair</td>\n",
       "      <td>F</td>\n",
       "      <td>deep</td>\n",
       "      <td>low</td>\n",
       "      <td>small</td>\n",
       "    </tr>\n",
       "    <tr>\n",
       "      <th>5</th>\n",
       "      <td>Fair</td>\n",
       "      <td>F</td>\n",
       "      <td>deep</td>\n",
       "      <td>low</td>\n",
       "      <td>small</td>\n",
       "    </tr>\n",
       "    <tr>\n",
       "      <th>6</th>\n",
       "      <td>Good</td>\n",
       "      <td>D</td>\n",
       "      <td>middle</td>\n",
       "      <td>low</td>\n",
       "      <td>small</td>\n",
       "    </tr>\n",
       "    <tr>\n",
       "      <th>7</th>\n",
       "      <td>Good</td>\n",
       "      <td>D</td>\n",
       "      <td>middle</td>\n",
       "      <td>low</td>\n",
       "      <td>small</td>\n",
       "    </tr>\n",
       "    <tr>\n",
       "      <th>8</th>\n",
       "      <td>Good</td>\n",
       "      <td>D</td>\n",
       "      <td>middle</td>\n",
       "      <td>low</td>\n",
       "      <td>small</td>\n",
       "    </tr>\n",
       "    <tr>\n",
       "      <th>9</th>\n",
       "      <td>Fair</td>\n",
       "      <td>F</td>\n",
       "      <td>deep</td>\n",
       "      <td>low</td>\n",
       "      <td>small</td>\n",
       "    </tr>\n",
       "  </tbody>\n",
       "</table>\n",
       "</div>"
      ],
      "text/plain": [
       "    cut color    depth price  carat\n",
       "0  Good     D   middle   low  small\n",
       "1  Fair     F     deep   low  small\n",
       "2  Good     I  shallow   low  small\n",
       "3  Good     F  shallow   low  small\n",
       "4  Fair     F     deep   low  small\n",
       "5  Fair     F     deep   low  small\n",
       "6  Good     D   middle   low  small\n",
       "7  Good     D   middle   low  small\n",
       "8  Good     D   middle   low  small\n",
       "9  Fair     F     deep   low  small"
      ]
     },
     "execution_count": 4,
     "metadata": {},
     "output_type": "execute_result"
    }
   ],
   "source": [
    "# Displaying first 10 observations after discretizing\n",
    "Data1.head(10)"
   ]
  },
  {
   "cell_type": "markdown",
   "metadata": {},
   "source": [
    "### Part B"
   ]
  },
  {
   "cell_type": "markdown",
   "metadata": {},
   "source": [
    "**Calculating impurity of** `price` **feature**."
   ]
  },
  {
   "cell_type": "code",
   "execution_count": 5,
   "metadata": {},
   "outputs": [
    {
     "data": {
      "text/plain": [
       "low        0.438679\n",
       "medium     0.349057\n",
       "high       0.146226\n",
       "premium    0.066038\n",
       "Name: price, dtype: float64"
      ]
     },
     "execution_count": 5,
     "metadata": {},
     "output_type": "execute_result"
    }
   ],
   "source": [
    "# Probability distribution of the price\n",
    "prob = Data1['price'].value_counts(normalize=True)\n",
    "prob"
   ]
  },
  {
   "cell_type": "code",
   "execution_count": 6,
   "metadata": {},
   "outputs": [
    {
     "data": {
      "text/plain": [
       "1.7160130346557048"
      ]
     },
     "execution_count": 6,
     "metadata": {},
     "output_type": "execute_result"
    }
   ],
   "source": [
    "# Calculating impurity using entropy\n",
    "entropy = -1 * np.sum(np.log2(prob) * prob)\n",
    "entropy"
   ]
  },
  {
   "cell_type": "markdown",
   "metadata": {},
   "source": [
    "Using **Shannon's model of entropy** , the impurity of `price` is calculated as `1.7160130346557048`"
   ]
  },
  {
   "cell_type": "markdown",
   "metadata": {},
   "source": [
    "### Part C"
   ]
  },
  {
   "cell_type": "markdown",
   "metadata": {},
   "source": [
    "**Determining root node of the decsion tree.**"
   ]
  },
  {
   "cell_type": "code",
   "execution_count": 7,
   "metadata": {},
   "outputs": [],
   "source": [
    "# Storing price as target\n",
    "target = Data1.price.values"
   ]
  },
  {
   "cell_type": "markdown",
   "metadata": {},
   "source": [
    "A function `compute_entropy()` is created which computes entropy of a feature."
   ]
  },
  {
   "cell_type": "code",
   "execution_count": 8,
   "metadata": {},
   "outputs": [],
   "source": [
    "# Creating a function to calculate entropy of a feature\n",
    "def compute_entropy(feature):\n",
    "    prob = feature.value_counts(normalize=True)\n",
    "    impurity = -1 * np.sum(np.log2(prob) * prob)\n",
    "    return(round(impurity, 3))"
   ]
  },
  {
   "cell_type": "markdown",
   "metadata": {},
   "source": [
    "Another function `feature_info_gain()` is created which calculates information gain, remaining impurity, impurity of partitions and weight of partitions. The feature with highest information gain will be the root node of the decision tree."
   ]
  },
  {
   "cell_type": "code",
   "execution_count": 9,
   "metadata": {},
   "outputs": [],
   "source": [
    "# Creating a function for calculating information gain, remaining impurity, impurity of partitions and weight \n",
    "# of partitions\n",
    "\n",
    "def feature_info_gain(df, target,feature):\n",
    "    print('target feature:', target)\n",
    "    print('descriptive_feature:', feature)\n",
    "    print('impurity: entropy')\n",
    "    \n",
    "    target_entropy = compute_entropy(df[target])\n",
    "    \n",
    "    entropy_list = list()\n",
    "    weight_list = list()\n",
    "    \n",
    "    for level in df[feature].unique():\n",
    "        df_feature_level = df[df[feature] == level]\n",
    "        \n",
    "        # impurity of partitions\n",
    "        entropy_level = compute_entropy(df_feature_level[target])\n",
    "        entropy_list.append(round(entropy_level, 3))\n",
    "        \n",
    "        # weight of partitions\n",
    "        weight_level = len(df_feature_level) / len(df)\n",
    "        weight_list.append(round(weight_level, 3))\n",
    "        \n",
    "    print('impurity of partitions:', entropy_list)\n",
    "    print('weights of partitions:', weight_list)\n",
    "\n",
    "    # remaining impurity\n",
    "    remaining_impurity = np.sum(np.array(entropy_list) * np.array(weight_list)) \n",
    "    remaining_impurity = remaining_impurity.round(3)\n",
    "    print('remaining impurity:', remaining_impurity)\n",
    "    \n",
    "    # information gain\n",
    "    information_gain = target_entropy - remaining_impurity\n",
    "    information_gain = information_gain.round(3)\n",
    "    print('information gain:', information_gain)\n",
    "    print(\"\\n\")\n",
    "    print('===============================================')\n",
    "    print(\"\\n\")\n",
    "\n",
    "    return(information_gain)\n",
    "\n",
    "\n",
    "    \n",
    "    "
   ]
  },
  {
   "cell_type": "code",
   "execution_count": 10,
   "metadata": {},
   "outputs": [
    {
     "name": "stdout",
     "output_type": "stream",
     "text": [
      "target feature: price\n",
      "descriptive_feature: cut\n",
      "impurity: entropy\n",
      "impurity of partitions: [1.68, 1.78]\n",
      "weights of partitions: [0.717, 0.283]\n",
      "remaining impurity: 1.708\n",
      "information gain: 0.008\n",
      "\n",
      "\n",
      "===============================================\n",
      "\n",
      "\n",
      "target feature: price\n",
      "descriptive_feature: color\n",
      "impurity: entropy\n",
      "impurity of partitions: [1.657, 1.445, 1.833]\n",
      "weights of partitions: [0.269, 0.434, 0.297]\n",
      "remaining impurity: 1.617\n",
      "information gain: 0.099\n",
      "\n",
      "\n",
      "===============================================\n",
      "\n",
      "\n",
      "target feature: price\n",
      "descriptive_feature: depth\n",
      "impurity: entropy\n",
      "impurity of partitions: [1.517, 1.749, 1.74]\n",
      "weights of partitions: [0.349, 0.316, 0.335]\n",
      "remaining impurity: 1.665\n",
      "information gain: 0.051\n",
      "\n",
      "\n",
      "===============================================\n",
      "\n",
      "\n",
      "target feature: price\n",
      "descriptive_feature: carat\n",
      "impurity: entropy\n",
      "impurity of partitions: [-0.0, 1.365, 1.529]\n",
      "weights of partitions: [0.335, 0.373, 0.292]\n",
      "remaining impurity: 0.956\n",
      "information gain: 0.76\n",
      "\n",
      "\n",
      "===============================================\n",
      "\n",
      "\n"
     ]
    }
   ],
   "source": [
    "# Calculating information gain, remaining impurity, impurity of partitions and weight of partitions for each feature\n",
    "# Dropping\n",
    "for feature in Data1.drop(columns='price').columns:\n",
    "    info_gain = feature_info_gain(Data1, 'price', feature)"
   ]
  },
  {
   "cell_type": "markdown",
   "metadata": {},
   "source": [
    "We observe that the information gain is highest for `carat` feature. Therefore, the **root node** is `carat`."
   ]
  },
  {
   "cell_type": "code",
   "execution_count": 11,
   "metadata": {},
   "outputs": [
    {
     "data": {
      "text/html": [
       "<div>\n",
       "<style scoped>\n",
       "    .dataframe tbody tr th:only-of-type {\n",
       "        vertical-align: middle;\n",
       "    }\n",
       "\n",
       "    .dataframe tbody tr th {\n",
       "        vertical-align: top;\n",
       "    }\n",
       "\n",
       "    .dataframe thead th {\n",
       "        text-align: right;\n",
       "    }\n",
       "</style>\n",
       "<table border=\"1\" class=\"dataframe\">\n",
       "  <thead>\n",
       "    <tr style=\"text-align: right;\">\n",
       "      <th></th>\n",
       "      <th>split</th>\n",
       "      <th>remainder</th>\n",
       "      <th>info_gain</th>\n",
       "      <th>is_optimal</th>\n",
       "    </tr>\n",
       "  </thead>\n",
       "  <tbody>\n",
       "    <tr>\n",
       "      <th>0</th>\n",
       "      <td>carat</td>\n",
       "      <td>0.956</td>\n",
       "      <td>0.760</td>\n",
       "      <td>True</td>\n",
       "    </tr>\n",
       "    <tr>\n",
       "      <th>1</th>\n",
       "      <td>color</td>\n",
       "      <td>1.617</td>\n",
       "      <td>0.099</td>\n",
       "      <td>False</td>\n",
       "    </tr>\n",
       "    <tr>\n",
       "      <th>2</th>\n",
       "      <td>depth</td>\n",
       "      <td>1.665</td>\n",
       "      <td>0.051</td>\n",
       "      <td>False</td>\n",
       "    </tr>\n",
       "    <tr>\n",
       "      <th>3</th>\n",
       "      <td>cut</td>\n",
       "      <td>1.708</td>\n",
       "      <td>0.008</td>\n",
       "      <td>False</td>\n",
       "    </tr>\n",
       "  </tbody>\n",
       "</table>\n",
       "</div>"
      ],
      "text/plain": [
       "   split  remainder  info_gain is_optimal\n",
       "0  carat      0.956      0.760       True\n",
       "1  color      1.617      0.099      False\n",
       "2  depth      1.665      0.051      False\n",
       "3    cut      1.708      0.008      False"
      ]
     },
     "execution_count": 11,
     "metadata": {},
     "output_type": "execute_result"
    }
   ],
   "source": [
    "# Creating the table\n",
    "df_splits = pd.DataFrame(columns=['split', 'remainder', 'info_gain','is_optimal'])\n",
    "df_splits.loc[len(df_splits)] = ['carat', 0.956, 0.76,'True']\n",
    "df_splits.loc[len(df_splits)] = ['color', 1.617, 0.099, 'False']\n",
    "df_splits.loc[len(df_splits)] = ['depth', 1.665,0.051, 'False']\n",
    "df_splits.loc[len(df_splits)] = ['cut', 1.708,0.008, 'False']\n",
    "df_splits"
   ]
  },
  {
   "cell_type": "markdown",
   "metadata": {},
   "source": [
    "Since the information gain of `carat` is the highest, it is the most optimal feature to be the root node of the decision tree."
   ]
  },
  {
   "cell_type": "markdown",
   "metadata": {},
   "source": [
    "### Part D"
   ]
  },
  {
   "cell_type": "markdown",
   "metadata": {},
   "source": [
    "**Making predictions for the** `price` **target variable using** `carat` **as the root node**"
   ]
  },
  {
   "cell_type": "markdown",
   "metadata": {},
   "source": [
    "`carat` feature is partitionted corresponding to `price` target feature and probability of each level of `price` is computed using the below code."
   ]
  },
  {
   "cell_type": "code",
   "execution_count": 12,
   "metadata": {
    "scrolled": false
   },
   "outputs": [
    {
     "name": "stdout",
     "output_type": "stream",
     "text": [
      "Level name: small\n",
      "Data partition coresspondig to price:\n",
      "low    71\n",
      "Name: price, dtype: int64\n",
      "Target feature impurity of partition: -0.0\n",
      "Weight of partition: 71/212\n",
      "Probability of each level of price:\n",
      "low    1.0\n",
      "Name: price, dtype: float64\n",
      "\n",
      "\n",
      "=================================================\n",
      "\n",
      "\n",
      "Level name: medium\n",
      "Data partition coresspondig to price:\n",
      "medium     48\n",
      "low        22\n",
      "high        8\n",
      "premium     1\n",
      "Name: price, dtype: int64\n",
      "Target feature impurity of partition: 1.365\n",
      "Weight of partition: 79/212\n",
      "Probability of each level of price:\n",
      "medium     0.608\n",
      "low        0.278\n",
      "high       0.101\n",
      "premium    0.013\n",
      "Name: price, dtype: float64\n",
      "\n",
      "\n",
      "=================================================\n",
      "\n",
      "\n",
      "Level name: large\n",
      "Data partition coresspondig to price:\n",
      "medium     26\n",
      "high       23\n",
      "premium    13\n",
      "Name: price, dtype: int64\n",
      "Target feature impurity of partition: 1.529\n",
      "Weight of partition: 62/212\n",
      "Probability of each level of price:\n",
      "medium     0.419\n",
      "high       0.371\n",
      "premium    0.210\n",
      "Name: price, dtype: float64\n",
      "\n",
      "\n",
      "=================================================\n",
      "\n",
      "\n"
     ]
    }
   ],
   "source": [
    "# partioning carat feature with respect to price target feature\n",
    "for level in Data1['carat'].unique():\n",
    "    print('Level name:', level)\n",
    "    df_feature_level = Data1[Data1['carat'] == level]\n",
    "    print('Data partition coresspondig to price:')\n",
    "    print(df_feature_level['price'].value_counts())\n",
    "    print('Target feature impurity of partition:', compute_entropy(df_feature_level['price']))\n",
    "    print('Weight of partition:', str(len(df_feature_level)) + '/' + str(len(Data1)))\n",
    "    \n",
    "    # Calculating probability for all levels of price\n",
    "    print(\"Probability of each level of price:\")\n",
    "    print(df_feature_level['price'].value_counts(normalize = True).round(3))\n",
    "    print(\"\\n\")\n",
    "    print('=================================================')\n",
    "    print(\"\\n\")"
   ]
  },
  {
   "cell_type": "markdown",
   "metadata": {},
   "source": [
    "The target feature `price` is predicted using the above probabilities. "
   ]
  },
  {
   "cell_type": "code",
   "execution_count": 13,
   "metadata": {},
   "outputs": [
    {
     "data": {
      "text/html": [
       "<div>\n",
       "<style scoped>\n",
       "    .dataframe tbody tr th:only-of-type {\n",
       "        vertical-align: middle;\n",
       "    }\n",
       "\n",
       "    .dataframe tbody tr th {\n",
       "        vertical-align: top;\n",
       "    }\n",
       "\n",
       "    .dataframe thead th {\n",
       "        text-align: right;\n",
       "    }\n",
       "</style>\n",
       "<table border=\"1\" class=\"dataframe\">\n",
       "  <thead>\n",
       "    <tr style=\"text-align: right;\">\n",
       "      <th></th>\n",
       "      <th>leaf_condition</th>\n",
       "      <th>low_price_prob</th>\n",
       "      <th>medium_price_prob</th>\n",
       "      <th>high_price_prob</th>\n",
       "      <th>premium_price_prob</th>\n",
       "      <th>leaf_prediction_price</th>\n",
       "    </tr>\n",
       "  </thead>\n",
       "  <tbody>\n",
       "    <tr>\n",
       "      <th>0</th>\n",
       "      <td>small</td>\n",
       "      <td>1.000</td>\n",
       "      <td>0</td>\n",
       "      <td>0</td>\n",
       "      <td>0</td>\n",
       "      <td>low</td>\n",
       "    </tr>\n",
       "    <tr>\n",
       "      <th>1</th>\n",
       "      <td>medium</td>\n",
       "      <td>0.278</td>\n",
       "      <td>0.608</td>\n",
       "      <td>0.101</td>\n",
       "      <td>0.013</td>\n",
       "      <td>medium</td>\n",
       "    </tr>\n",
       "    <tr>\n",
       "      <th>2</th>\n",
       "      <td>large</td>\n",
       "      <td>0.000</td>\n",
       "      <td>0.419</td>\n",
       "      <td>0.371</td>\n",
       "      <td>0.21</td>\n",
       "      <td>medium</td>\n",
       "    </tr>\n",
       "  </tbody>\n",
       "</table>\n",
       "</div>"
      ],
      "text/plain": [
       "  leaf_condition  low_price_prob medium_price_prob high_price_prob  \\\n",
       "0          small           1.000                 0               0   \n",
       "1         medium           0.278             0.608           0.101   \n",
       "2          large           0.000             0.419           0.371   \n",
       "\n",
       "  premium_price_prob leaf_prediction_price  \n",
       "0                  0                   low  \n",
       "1              0.013                medium  \n",
       "2               0.21                medium  "
      ]
     },
     "execution_count": 13,
     "metadata": {},
     "output_type": "execute_result"
    }
   ],
   "source": [
    "# Creating the table\n",
    "df_pred = pd.DataFrame(columns=['leaf_condition', 'low_price_prob', 'medium_price_prob','high_price_prob','premium_price_prob','leaf_prediction_price'])\n",
    "df_pred.loc[len(df_pred)] = ['small', 1.0, 0, 0, 0,'low']\n",
    "df_pred.loc[len(df_pred)] = ['medium', 0.278, 0.608, 0.101, 0.013 , 'medium']\n",
    "df_pred.loc[len(df_pred)] = ['large', 0, 0.419, 0.371, 0.210, 'medium']\n",
    "df_pred"
   ]
  }
 ],
 "metadata": {
  "kernelspec": {
   "display_name": "Python 3",
   "language": "python",
   "name": "python3"
  },
  "language_info": {
   "codemirror_mode": {
    "name": "ipython",
    "version": 3
   },
   "file_extension": ".py",
   "mimetype": "text/x-python",
   "name": "python",
   "nbconvert_exporter": "python",
   "pygments_lexer": "ipython3",
   "version": "3.8.5"
  }
 },
 "nbformat": 4,
 "nbformat_minor": 4
}
